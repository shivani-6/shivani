{
 "cells": [
  {
   "cell_type": "markdown",
   "metadata": {},
   "source": [
    "# 4. Write a python programming to print the Palindrome count between two limits\n",
    "\n",
    " Example:-\n",
    "\n",
    " Test cases:- Input:- 1 10   Output:- 9\n",
    "\n",
    " Test cases:- Input:- 11 100 Output:- 9 "
   ]
  },
  {
   "cell_type": "code",
   "execution_count": null,
   "metadata": {},
   "outputs": [],
   "source": [
    "\n",
    "def isPalindrome(n):\n",
    "    rev=0\n",
    "    buffer=n\n",
    "    while n!=0:\n",
    "        r=n%10\n",
    "        rev=rev*10+r\n",
    "        n=n//10                                      #Test cases:- Input:- 1 10   Output:- 9\n",
    "    if rev==buffer:                                  # Test cases:- Input:- 11 100 Output:- 9 \n",
    "        return True\n",
    "    else:\n",
    "        return False\n",
    "    return\n",
    "def countPalindrome(lb,ub):\n",
    "    cnt=0\n",
    "    while lb!=ub:\n",
    "        #implement\n",
    "        if isPalindrome(lb)==True:\n",
    "            cnt=cnt+1\n",
    "        lb=lb+1\n",
    "    return cnt\n",
    "print(countPalindrome(1,10))\n",
    "print(countPalindrome(11,100))\n",
    "\n"
   ]
  },
  {
   "cell_type": "markdown",
   "metadata": {},
   "source": [
    "# 3. Write a python programming to print the large digit from given number\n",
    "\n",
    "  Example:-\n",
    "\n",
    " Test cases:- Input:- 195263 Output:- 9\n",
    "\n",
    " Test cases:- Input:- 36372  Output:- 7"
   ]
  },
  {
   "cell_type": "code",
   "execution_count": null,
   "metadata": {},
   "outputs": [],
   "source": [
    "def printlarge(n):\n",
    "    large=0                                 #Test cases:- Input:- 195263 Output:- 9\n",
    "    while n!=0:\n",
    "        r=n%10\n",
    "        if large<r:\n",
    "            large=r\n",
    "        n=n//10\n",
    "    return large \n",
    "print(printlarge(195263))\n",
    "print(printlarge(36372))\n",
    "\n"
   ]
  }
 ],
 "metadata": {
  "kernelspec": {
   "display_name": "Python 3",
   "language": "python",
   "name": "python3"
  },
  "language_info": {
   "codemirror_mode": {
    "name": "ipython",
    "version": 3
   },
   "file_extension": ".py",
   "mimetype": "text/x-python",
   "name": "python",
   "nbconvert_exporter": "python",
   "pygments_lexer": "ipython3",
   "version": "3.7.3"
  }
 },
 "nbformat": 4,
 "nbformat_minor": 2
}
